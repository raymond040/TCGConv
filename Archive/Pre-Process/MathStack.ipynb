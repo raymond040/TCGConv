{
 "cells": [
  {
   "cell_type": "code",
   "execution_count": 16,
   "metadata": {},
   "outputs": [],
   "source": [
    "import pandas as pd\n",
    "\n",
    "a2q = pd.read_csv('/workspaces/TCGConv/Dataset/MathStack/sx-mathoverflow-a2q.txt', sep=' ', names= ['src', 'dst', 'time'])\n",
    "c2a = pd.read_csv('/workspaces/TCGConv/Dataset/MathStack/sx-mathoverflow-c2a.txt', sep=' ', names= ['src', 'dst', 'time'])\n",
    "c2q = pd.read_csv('/workspaces/TCGConv/Dataset/MathStack/sx-mathoverflow-c2q.txt', sep=' ', names= ['src', 'dst', 'time'])"
   ]
  },
  {
   "cell_type": "code",
   "execution_count": 17,
   "metadata": {},
   "outputs": [],
   "source": [
    "a2q['edge_label'] = 0\n",
    "c2q['edge_label'] = 1\n",
    "c2a['edge_label'] = 2"
   ]
  },
  {
   "cell_type": "code",
   "execution_count": 18,
   "metadata": {},
   "outputs": [
    {
     "data": {
      "text/html": [
       "<div>\n",
       "<style scoped>\n",
       "    .dataframe tbody tr th:only-of-type {\n",
       "        vertical-align: middle;\n",
       "    }\n",
       "\n",
       "    .dataframe tbody tr th {\n",
       "        vertical-align: top;\n",
       "    }\n",
       "\n",
       "    .dataframe thead th {\n",
       "        text-align: right;\n",
       "    }\n",
       "</style>\n",
       "<table border=\"1\" class=\"dataframe\">\n",
       "  <thead>\n",
       "    <tr style=\"text-align: right;\">\n",
       "      <th></th>\n",
       "      <th>src</th>\n",
       "      <th>dst</th>\n",
       "      <th>time</th>\n",
       "      <th>edge_label</th>\n",
       "    </tr>\n",
       "  </thead>\n",
       "  <tbody>\n",
       "    <tr>\n",
       "      <th>0</th>\n",
       "      <td>1</td>\n",
       "      <td>4</td>\n",
       "      <td>1254192988</td>\n",
       "      <td>0</td>\n",
       "    </tr>\n",
       "    <tr>\n",
       "      <th>1</th>\n",
       "      <td>3</td>\n",
       "      <td>4</td>\n",
       "      <td>1254194656</td>\n",
       "      <td>0</td>\n",
       "    </tr>\n",
       "    <tr>\n",
       "      <th>2</th>\n",
       "      <td>1</td>\n",
       "      <td>2</td>\n",
       "      <td>1254202612</td>\n",
       "      <td>0</td>\n",
       "    </tr>\n",
       "    <tr>\n",
       "      <th>3</th>\n",
       "      <td>25</td>\n",
       "      <td>1</td>\n",
       "      <td>1254232804</td>\n",
       "      <td>0</td>\n",
       "    </tr>\n",
       "    <tr>\n",
       "      <th>4</th>\n",
       "      <td>14</td>\n",
       "      <td>16</td>\n",
       "      <td>1254263166</td>\n",
       "      <td>0</td>\n",
       "    </tr>\n",
       "    <tr>\n",
       "      <th>...</th>\n",
       "      <td>...</td>\n",
       "      <td>...</td>\n",
       "      <td>...</td>\n",
       "      <td>...</td>\n",
       "    </tr>\n",
       "    <tr>\n",
       "      <th>506545</th>\n",
       "      <td>51484</td>\n",
       "      <td>3928</td>\n",
       "      <td>1457256235</td>\n",
       "      <td>2</td>\n",
       "    </tr>\n",
       "    <tr>\n",
       "      <th>506546</th>\n",
       "      <td>1840</td>\n",
       "      <td>1840</td>\n",
       "      <td>1457256378</td>\n",
       "      <td>2</td>\n",
       "    </tr>\n",
       "    <tr>\n",
       "      <th>506547</th>\n",
       "      <td>65995</td>\n",
       "      <td>39552</td>\n",
       "      <td>1457259545</td>\n",
       "      <td>2</td>\n",
       "    </tr>\n",
       "    <tr>\n",
       "      <th>506548</th>\n",
       "      <td>20031</td>\n",
       "      <td>1114</td>\n",
       "      <td>1457261526</td>\n",
       "      <td>2</td>\n",
       "    </tr>\n",
       "    <tr>\n",
       "      <th>506549</th>\n",
       "      <td>51428</td>\n",
       "      <td>1114</td>\n",
       "      <td>1457261724</td>\n",
       "      <td>2</td>\n",
       "    </tr>\n",
       "  </tbody>\n",
       "</table>\n",
       "<p>506550 rows × 4 columns</p>\n",
       "</div>"
      ],
      "text/plain": [
       "          src    dst        time  edge_label\n",
       "0           1      4  1254192988           0\n",
       "1           3      4  1254194656           0\n",
       "2           1      2  1254202612           0\n",
       "3          25      1  1254232804           0\n",
       "4          14     16  1254263166           0\n",
       "...       ...    ...         ...         ...\n",
       "506545  51484   3928  1457256235           2\n",
       "506546   1840   1840  1457256378           2\n",
       "506547  65995  39552  1457259545           2\n",
       "506548  20031   1114  1457261526           2\n",
       "506549  51428   1114  1457261724           2\n",
       "\n",
       "[506550 rows x 4 columns]"
      ]
     },
     "execution_count": 18,
     "metadata": {},
     "output_type": "execute_result"
    }
   ],
   "source": [
    "math_data = pd.concat([a2q,c2q,c2a])\n",
    "math_data = math_data.reset_index()[['src','dst','time','edge_label']]\n",
    "math_data"
   ]
  },
  {
   "cell_type": "code",
   "execution_count": 19,
   "metadata": {},
   "outputs": [],
   "source": [
    "math_data.to_csv(\"/workspaces/TCGConv/Dataset/MathStack/MathStack.csv\")"
   ]
  },
  {
   "cell_type": "code",
   "execution_count": null,
   "metadata": {},
   "outputs": [],
   "source": []
  }
 ],
 "metadata": {
  "kernelspec": {
   "display_name": "Python 3.8.10 64-bit",
   "language": "python",
   "name": "python3"
  },
  "language_info": {
   "codemirror_mode": {
    "name": "ipython",
    "version": 3
   },
   "file_extension": ".py",
   "mimetype": "text/x-python",
   "name": "python",
   "nbconvert_exporter": "python",
   "pygments_lexer": "ipython3",
   "version": "3.8.10"
  },
  "orig_nbformat": 4,
  "vscode": {
   "interpreter": {
    "hash": "916dbcbb3f70747c44a77c7bcd40155683ae19c65e1c03b4aa3499c5328201f1"
   }
  }
 },
 "nbformat": 4,
 "nbformat_minor": 2
}
