{
 "cells": [
  {
   "cell_type": "code",
   "execution_count": 2,
   "metadata": {},
   "outputs": [
    {
     "ename": "",
     "evalue": "",
     "output_type": "error",
     "traceback": [
      "\u001b[1;31mCanceled future for execute_request message before replies were done"
     ]
    },
    {
     "ename": "",
     "evalue": "",
     "output_type": "error",
     "traceback": [
      "\u001b[1;31mThe Kernel crashed while executing code in the the current cell or a previous cell. Please review the code in the cell(s) to identify a possible cause of the failure. Click <a href='https://aka.ms/vscodeJupyterKernelCrash'>here</a> for more info. View Jupyter <a href='command:jupyter.viewOutput'>log</a> for further details."
     ]
    }
   ],
   "source": [
    "import pandas as pd\n",
    "import numpy as np\n",
    "\n",
    "u_list, i_list, ts_list, label_list = [], [], [], []\n",
    "feat_l = []\n",
    "idx_list = []\n",
    "\n",
    "with open('reddit.csv') as f:\n",
    "    s = next(f)\n",
    "    for idx, line in enumerate(f): #index, line per line reading\n",
    "        e = line.strip().split(',')\n",
    "        u = int(e[0])\n",
    "        i = int(e[1])\n",
    "\n",
    "        ts = float(e[2])\n",
    "        label = float(e[3])  # int(e[3])\n",
    "\n",
    "        feat = np.array([float(x) for x in e[4:]]) #all other features\n",
    "\n",
    "        u_list.append(u)\n",
    "        i_list.append(i)\n",
    "        ts_list.append(ts)\n",
    "        label_list.append(label)\n",
    "        idx_list.append(idx)\n",
    "\n",
    "        feat_l.append(feat)\n",
    "        \n",
    "feature_cnt = len(feat_l[0])\n",
    "df_dct = {'u': u_list,\n",
    "            'i': i_list,\n",
    "            'ts': ts_list,\n",
    "            'label': label_list,\n",
    "            'idx': idx_list}\n",
    "for i in range(feature_cnt):\n",
    "    for j in range(len(feat_l)):\n",
    "        if 'feat_'+str(i) in df_dct.keys():\n",
    "            df_dct['feat_'+str(i)].append(feat_l[j][i])\n",
    "        else:\n",
    "            df_dct['feat_'+str(i)] = [feat_l[j][i]]\n",
    "df = pd.DataFrame(df_dct)\n",
    "df.to_csv('reddit_processed.csv')\n"
   ]
  },
  {
   "cell_type": "code",
   "execution_count": null,
   "metadata": {},
   "outputs": [],
   "source": []
  }
 ],
 "metadata": {
  "kernelspec": {
   "display_name": "Python 3.8.10 64-bit",
   "language": "python",
   "name": "python3"
  },
  "language_info": {
   "codemirror_mode": {
    "name": "ipython",
    "version": 3
   },
   "file_extension": ".py",
   "mimetype": "text/x-python",
   "name": "python",
   "nbconvert_exporter": "python",
   "pygments_lexer": "ipython3",
   "version": "3.8.10"
  },
  "orig_nbformat": 4,
  "vscode": {
   "interpreter": {
    "hash": "916dbcbb3f70747c44a77c7bcd40155683ae19c65e1c03b4aa3499c5328201f1"
   }
  }
 },
 "nbformat": 4,
 "nbformat_minor": 2
}
