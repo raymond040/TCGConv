{
 "cells": [
  {
   "cell_type": "code",
   "execution_count": 1,
   "metadata": {},
   "outputs": [
    {
     "data": {
      "text/plain": [
       "{'__header__': b'MATLAB 5.0 MAT-file Platform: posix, Created on: Wed Aug 19 20:09:02 2020',\n",
       " '__version__': '1.0',\n",
       " '__globals__': [],\n",
       " 'homo': <45954x45954 sparse matrix of type '<class 'numpy.float64'>'\n",
       " \twith 7693958 stored elements in Compressed Sparse Column format>,\n",
       " 'net_rur': <45954x45954 sparse matrix of type '<class 'numpy.float64'>'\n",
       " \twith 98630 stored elements in Compressed Sparse Column format>,\n",
       " 'net_rtr': <45954x45954 sparse matrix of type '<class 'numpy.float64'>'\n",
       " \twith 1147232 stored elements in Compressed Sparse Column format>,\n",
       " 'net_rsr': <45954x45954 sparse matrix of type '<class 'numpy.float64'>'\n",
       " \twith 6805486 stored elements in Compressed Sparse Column format>,\n",
       " 'features': <45954x32 sparse matrix of type '<class 'numpy.float64'>'\n",
       " \twith 1469088 stored elements in Compressed Sparse Column format>,\n",
       " 'label': array([[0, 0, 0, ..., 0, 0, 0]])}"
      ]
     },
     "execution_count": 1,
     "metadata": {},
     "output_type": "execute_result"
    }
   ],
   "source": [
    "import scipy.io\n",
    "import pandas as pd\n",
    "mat = scipy.io.loadmat('/workspaces/TCGConv/Dataset/YelpCHI/YelpChi.mat') \n",
    "mat\n",
    "# net_rur = pd.DataFrame(mat['net_rur']).to_csv('/workspaces/TCGConv/Dataset/YelpCHI/net_rur.csv')"
   ]
  },
  {
   "cell_type": "code",
   "execution_count": 4,
   "metadata": {},
   "outputs": [
    {
     "data": {
      "text/plain": [
       "45954"
      ]
     },
     "execution_count": 4,
     "metadata": {},
     "output_type": "execute_result"
    }
   ],
   "source": [
    "len(sum(mat['label']))"
   ]
  },
  {
   "cell_type": "code",
   "execution_count": 5,
   "metadata": {},
   "outputs": [
    {
     "data": {
      "text/plain": [
       "6677"
      ]
     },
     "execution_count": 5,
     "metadata": {},
     "output_type": "execute_result"
    }
   ],
   "source": [
    "sum(sum(mat['label']))"
   ]
  },
  {
   "cell_type": "code",
   "execution_count": 6,
   "metadata": {},
   "outputs": [
    {
     "data": {
      "text/html": [
       "<div>\n",
       "<style scoped>\n",
       "    .dataframe tbody tr th:only-of-type {\n",
       "        vertical-align: middle;\n",
       "    }\n",
       "\n",
       "    .dataframe tbody tr th {\n",
       "        vertical-align: top;\n",
       "    }\n",
       "\n",
       "    .dataframe thead th {\n",
       "        text-align: right;\n",
       "    }\n",
       "</style>\n",
       "<table border=\"1\" class=\"dataframe\">\n",
       "  <thead>\n",
       "    <tr style=\"text-align: right;\">\n",
       "      <th></th>\n",
       "      <th>Unnamed: 0</th>\n",
       "      <th>0</th>\n",
       "      <th>1</th>\n",
       "      <th>2</th>\n",
       "      <th>3</th>\n",
       "      <th>4</th>\n",
       "      <th>5</th>\n",
       "      <th>6</th>\n",
       "      <th>7</th>\n",
       "      <th>8</th>\n",
       "      <th>...</th>\n",
       "      <th>45944</th>\n",
       "      <th>45945</th>\n",
       "      <th>45946</th>\n",
       "      <th>45947</th>\n",
       "      <th>45948</th>\n",
       "      <th>45949</th>\n",
       "      <th>45950</th>\n",
       "      <th>45951</th>\n",
       "      <th>45952</th>\n",
       "      <th>45953</th>\n",
       "    </tr>\n",
       "  </thead>\n",
       "  <tbody>\n",
       "    <tr>\n",
       "      <th>0</th>\n",
       "      <td>0</td>\n",
       "      <td>0</td>\n",
       "      <td>0</td>\n",
       "      <td>0</td>\n",
       "      <td>0</td>\n",
       "      <td>0</td>\n",
       "      <td>0</td>\n",
       "      <td>0</td>\n",
       "      <td>0</td>\n",
       "      <td>0</td>\n",
       "      <td>...</td>\n",
       "      <td>0</td>\n",
       "      <td>0</td>\n",
       "      <td>0</td>\n",
       "      <td>0</td>\n",
       "      <td>0</td>\n",
       "      <td>0</td>\n",
       "      <td>0</td>\n",
       "      <td>0</td>\n",
       "      <td>0</td>\n",
       "      <td>0</td>\n",
       "    </tr>\n",
       "  </tbody>\n",
       "</table>\n",
       "<p>1 rows × 45955 columns</p>\n",
       "</div>"
      ],
      "text/plain": [
       "   Unnamed: 0  0  1  2  3  4  5  6  7  8  ...  45944  45945  45946  45947  \\\n",
       "0           0  0  0  0  0  0  0  0  0  0  ...      0      0      0      0   \n",
       "\n",
       "   45948  45949  45950  45951  45952  45953  \n",
       "0      0      0      0      0      0      0  \n",
       "\n",
       "[1 rows x 45955 columns]"
      ]
     },
     "execution_count": 6,
     "metadata": {},
     "output_type": "execute_result"
    }
   ],
   "source": [
    "lab = pd.read_csv('/workspaces/TCGConv/Dataset/YelpCHI/label.csv')\n",
    "lab"
   ]
  },
  {
   "cell_type": "code",
   "execution_count": null,
   "metadata": {},
   "outputs": [],
   "source": []
  }
 ],
 "metadata": {
  "kernelspec": {
   "display_name": "Python 3.8.10 64-bit",
   "language": "python",
   "name": "python3"
  },
  "language_info": {
   "codemirror_mode": {
    "name": "ipython",
    "version": 3
   },
   "file_extension": ".py",
   "mimetype": "text/x-python",
   "name": "python",
   "nbconvert_exporter": "python",
   "pygments_lexer": "ipython3",
   "version": "3.8.10"
  },
  "orig_nbformat": 4,
  "vscode": {
   "interpreter": {
    "hash": "916dbcbb3f70747c44a77c7bcd40155683ae19c65e1c03b4aa3499c5328201f1"
   }
  }
 },
 "nbformat": 4,
 "nbformat_minor": 2
}
